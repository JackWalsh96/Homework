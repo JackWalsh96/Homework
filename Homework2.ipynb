{
 "cells": [
  {
   "cell_type": "code",
   "execution_count": 2,
   "metadata": {},
   "outputs": [
    {
     "name": "stdout",
     "output_type": "stream",
     "text": [
      "Defaulting to user installation because normal site-packages is not writeable\n",
      "Collecting seaborn\n",
      "  Downloading seaborn-0.13.0-py3-none-any.whl (294 kB)\n",
      "\u001b[K     |████████████████████████████████| 294 kB 3.7 MB/s eta 0:00:01\n",
      "\u001b[?25hRequirement already satisfied: matplotlib!=3.6.1,>=3.3 in /Users/jackwalsh/Library/Python/3.9/lib/python/site-packages (from seaborn) (3.8.0)\n",
      "Requirement already satisfied: numpy!=1.24.0,>=1.20 in /Users/jackwalsh/Library/Python/3.9/lib/python/site-packages (from seaborn) (1.26.0)\n",
      "Requirement already satisfied: pandas>=1.2 in /Users/jackwalsh/Library/Python/3.9/lib/python/site-packages (from seaborn) (2.1.1)\n",
      "Requirement already satisfied: packaging>=20.0 in /Users/jackwalsh/Library/Python/3.9/lib/python/site-packages (from matplotlib!=3.6.1,>=3.3->seaborn) (23.1)\n",
      "Requirement already satisfied: pyparsing>=2.3.1 in /Users/jackwalsh/Library/Python/3.9/lib/python/site-packages (from matplotlib!=3.6.1,>=3.3->seaborn) (3.1.1)\n",
      "Requirement already satisfied: cycler>=0.10 in /Users/jackwalsh/Library/Python/3.9/lib/python/site-packages (from matplotlib!=3.6.1,>=3.3->seaborn) (0.12.0)\n",
      "Requirement already satisfied: kiwisolver>=1.0.1 in /Users/jackwalsh/Library/Python/3.9/lib/python/site-packages (from matplotlib!=3.6.1,>=3.3->seaborn) (1.4.5)\n",
      "Requirement already satisfied: pillow>=6.2.0 in /Users/jackwalsh/Library/Python/3.9/lib/python/site-packages (from matplotlib!=3.6.1,>=3.3->seaborn) (10.0.1)\n",
      "Requirement already satisfied: importlib-resources>=3.2.0 in /Users/jackwalsh/Library/Python/3.9/lib/python/site-packages (from matplotlib!=3.6.1,>=3.3->seaborn) (6.1.0)\n",
      "Requirement already satisfied: contourpy>=1.0.1 in /Users/jackwalsh/Library/Python/3.9/lib/python/site-packages (from matplotlib!=3.6.1,>=3.3->seaborn) (1.1.1)\n",
      "Requirement already satisfied: python-dateutil>=2.7 in /Users/jackwalsh/Library/Python/3.9/lib/python/site-packages (from matplotlib!=3.6.1,>=3.3->seaborn) (2.8.2)\n",
      "Requirement already satisfied: fonttools>=4.22.0 in /Users/jackwalsh/Library/Python/3.9/lib/python/site-packages (from matplotlib!=3.6.1,>=3.3->seaborn) (4.43.0)\n",
      "Requirement already satisfied: zipp>=3.1.0 in /Users/jackwalsh/Library/Python/3.9/lib/python/site-packages (from importlib-resources>=3.2.0->matplotlib!=3.6.1,>=3.3->seaborn) (3.17.0)\n",
      "Requirement already satisfied: pytz>=2020.1 in /Users/jackwalsh/Library/Python/3.9/lib/python/site-packages (from pandas>=1.2->seaborn) (2023.3.post1)\n",
      "Requirement already satisfied: tzdata>=2022.1 in /Users/jackwalsh/Library/Python/3.9/lib/python/site-packages (from pandas>=1.2->seaborn) (2023.3)\n",
      "Requirement already satisfied: six>=1.5 in /Library/Developer/CommandLineTools/Library/Frameworks/Python3.framework/Versions/3.9/lib/python3.9/site-packages (from python-dateutil>=2.7->matplotlib!=3.6.1,>=3.3->seaborn) (1.15.0)\n",
      "Installing collected packages: seaborn\n",
      "Successfully installed seaborn-0.13.0\n",
      "\u001b[33mWARNING: You are using pip version 21.2.4; however, version 23.2.1 is available.\n",
      "You should consider upgrading via the '/Library/Developer/CommandLineTools/usr/bin/python3 -m pip install --upgrade pip' command.\u001b[0m\n",
      "Note: you may need to restart the kernel to use updated packages.\n"
     ]
    }
   ],
   "source": [
    "pip install seaborn"
   ]
  },
  {
   "cell_type": "code",
   "execution_count": 3,
   "metadata": {},
   "outputs": [],
   "source": [
    "import seaborn as sns\n",
    "\n",
    "sns.set()"
   ]
  },
  {
   "cell_type": "code",
   "execution_count": 8,
   "metadata": {},
   "outputs": [],
   "source": [
    "import pandas as pd\n",
    "import matplotlib.pyplot as plt\n",
    "import numpy as np"
   ]
  },
  {
   "cell_type": "code",
   "execution_count": 11,
   "metadata": {},
   "outputs": [],
   "source": [
    "walmart_df = pd.read_csv('/Users/jackwalsh/Documents/Code/Homework/Walmart_reviews_data.csv', sep=',' )\n"
   ]
  },
  {
   "cell_type": "code",
   "execution_count": 12,
   "metadata": {},
   "outputs": [
    {
     "name": "stdout",
     "output_type": "stream",
     "text": [
      "        name             location                     Date  Rating  \\\n",
      "0         A.           Ankeny, IA  Reviewed Sept. 13, 2023       1   \n",
      "1      DONNA          Phoenix, AZ   Reviewed Sept. 2, 2023       1   \n",
      "2       Jill      Baton Rouge, LA   Reviewed Aug. 28, 2023       1   \n",
      "3    Sukanya           Maumee, OH   Reviewed Aug. 25, 2023       1   \n",
      "4    Tiffany       Laurinburg, NC   Reviewed Aug. 18, 2023       1   \n",
      "..       ...                  ...                      ...     ...   \n",
      "295  Melissa       Texas City, TX   Reviewed Aug. 15, 2023       1   \n",
      "296    David  West Palm Beach, FL    Reviewed Aug. 8, 2023       1   \n",
      "297      Jay         Torrance, CA   Reviewed July 29, 2023       1   \n",
      "298  Theresa          Chester, PA   Reviewed July 27, 2023       1   \n",
      "299    Jenna       Waterville, OH   Reviewed July 21, 2023       1   \n",
      "\n",
      "                                                Review  \\\n",
      "0    The customer service is very bad. I bought a B...   \n",
      "1    I have attempted to put this review on Walmart...   \n",
      "2    I have been a Walmart plus member for years no...   \n",
      "3    I refused a living room set that they sent one...   \n",
      "4    Beware!! Practices discriminatory/preferential...   \n",
      "..                                                 ...   \n",
      "295  I have spent hours on the phone with no resolu...   \n",
      "296  Reading the previous complaints, I can only co...   \n",
      "297  While it may be difficult to not shop at Walma...   \n",
      "298  I updated my phone number and I was trying to ...   \n",
      "299  I bought a 75 inch tv online using Walmart. Ri...   \n",
      "\n",
      "                                           Image_Links  \n",
      "0                                        ['No Images']  \n",
      "1    ['https://media.consumeraffairs.com/files/cach...  \n",
      "2    ['https://media.consumeraffairs.com/files/cach...  \n",
      "3                                        ['No Images']  \n",
      "4                                        ['No Images']  \n",
      "..                                                 ...  \n",
      "295                                      ['No Images']  \n",
      "296                                      ['No Images']  \n",
      "297                                      ['No Images']  \n",
      "298                                      ['No Images']  \n",
      "299                                      ['No Images']  \n",
      "\n",
      "[300 rows x 6 columns]\n"
     ]
    }
   ],
   "source": [
    "print(walmart_df)"
   ]
  },
  {
   "cell_type": "code",
   "execution_count": 14,
   "metadata": {},
   "outputs": [
    {
     "data": {
      "text/html": [
       "<div>\n",
       "<style scoped>\n",
       "    .dataframe tbody tr th:only-of-type {\n",
       "        vertical-align: middle;\n",
       "    }\n",
       "\n",
       "    .dataframe tbody tr th {\n",
       "        vertical-align: top;\n",
       "    }\n",
       "\n",
       "    .dataframe thead th {\n",
       "        text-align: right;\n",
       "    }\n",
       "</style>\n",
       "<table border=\"1\" class=\"dataframe\">\n",
       "  <thead>\n",
       "    <tr style=\"text-align: right;\">\n",
       "      <th></th>\n",
       "      <th>name</th>\n",
       "      <th>location</th>\n",
       "      <th>Date</th>\n",
       "      <th>Rating</th>\n",
       "      <th>Review</th>\n",
       "      <th>Image_Links</th>\n",
       "    </tr>\n",
       "  </thead>\n",
       "  <tbody>\n",
       "    <tr>\n",
       "      <th>0</th>\n",
       "      <td>A.</td>\n",
       "      <td>Ankeny, IA</td>\n",
       "      <td>Reviewed Sept. 13, 2023</td>\n",
       "      <td>1</td>\n",
       "      <td>The customer service is very bad. I bought a B...</td>\n",
       "      <td>['No Images']</td>\n",
       "    </tr>\n",
       "    <tr>\n",
       "      <th>1</th>\n",
       "      <td>DONNA</td>\n",
       "      <td>Phoenix, AZ</td>\n",
       "      <td>Reviewed Sept. 2, 2023</td>\n",
       "      <td>1</td>\n",
       "      <td>I have attempted to put this review on Walmart...</td>\n",
       "      <td>['https://media.consumeraffairs.com/files/cach...</td>\n",
       "    </tr>\n",
       "    <tr>\n",
       "      <th>2</th>\n",
       "      <td>Jill</td>\n",
       "      <td>Baton Rouge, LA</td>\n",
       "      <td>Reviewed Aug. 28, 2023</td>\n",
       "      <td>1</td>\n",
       "      <td>I have been a Walmart plus member for years no...</td>\n",
       "      <td>['https://media.consumeraffairs.com/files/cach...</td>\n",
       "    </tr>\n",
       "    <tr>\n",
       "      <th>3</th>\n",
       "      <td>Sukanya</td>\n",
       "      <td>Maumee, OH</td>\n",
       "      <td>Reviewed Aug. 25, 2023</td>\n",
       "      <td>1</td>\n",
       "      <td>I refused a living room set that they sent one...</td>\n",
       "      <td>['No Images']</td>\n",
       "    </tr>\n",
       "    <tr>\n",
       "      <th>4</th>\n",
       "      <td>Tiffany</td>\n",
       "      <td>Laurinburg, NC</td>\n",
       "      <td>Reviewed Aug. 18, 2023</td>\n",
       "      <td>1</td>\n",
       "      <td>Beware!! Practices discriminatory/preferential...</td>\n",
       "      <td>['No Images']</td>\n",
       "    </tr>\n",
       "  </tbody>\n",
       "</table>\n",
       "</div>"
      ],
      "text/plain": [
       "      name         location                     Date  Rating  \\\n",
       "0       A.       Ankeny, IA  Reviewed Sept. 13, 2023       1   \n",
       "1    DONNA      Phoenix, AZ   Reviewed Sept. 2, 2023       1   \n",
       "2     Jill  Baton Rouge, LA   Reviewed Aug. 28, 2023       1   \n",
       "3  Sukanya       Maumee, OH   Reviewed Aug. 25, 2023       1   \n",
       "4  Tiffany   Laurinburg, NC   Reviewed Aug. 18, 2023       1   \n",
       "\n",
       "                                              Review  \\\n",
       "0  The customer service is very bad. I bought a B...   \n",
       "1  I have attempted to put this review on Walmart...   \n",
       "2  I have been a Walmart plus member for years no...   \n",
       "3  I refused a living room set that they sent one...   \n",
       "4  Beware!! Practices discriminatory/preferential...   \n",
       "\n",
       "                                         Image_Links  \n",
       "0                                      ['No Images']  \n",
       "1  ['https://media.consumeraffairs.com/files/cach...  \n",
       "2  ['https://media.consumeraffairs.com/files/cach...  \n",
       "3                                      ['No Images']  \n",
       "4                                      ['No Images']  "
      ]
     },
     "execution_count": 14,
     "metadata": {},
     "output_type": "execute_result"
    }
   ],
   "source": [
    "walmart_df.head ()"
   ]
  },
  {
   "cell_type": "code",
   "execution_count": 15,
   "metadata": {},
   "outputs": [
    {
     "data": {
      "text/plain": [
       "<bound method NDFrame.tail of         name             location                     Date  Rating  \\\n",
       "0         A.           Ankeny, IA  Reviewed Sept. 13, 2023       1   \n",
       "1      DONNA          Phoenix, AZ   Reviewed Sept. 2, 2023       1   \n",
       "2       Jill      Baton Rouge, LA   Reviewed Aug. 28, 2023       1   \n",
       "3    Sukanya           Maumee, OH   Reviewed Aug. 25, 2023       1   \n",
       "4    Tiffany       Laurinburg, NC   Reviewed Aug. 18, 2023       1   \n",
       "..       ...                  ...                      ...     ...   \n",
       "295  Melissa       Texas City, TX   Reviewed Aug. 15, 2023       1   \n",
       "296    David  West Palm Beach, FL    Reviewed Aug. 8, 2023       1   \n",
       "297      Jay         Torrance, CA   Reviewed July 29, 2023       1   \n",
       "298  Theresa          Chester, PA   Reviewed July 27, 2023       1   \n",
       "299    Jenna       Waterville, OH   Reviewed July 21, 2023       1   \n",
       "\n",
       "                                                Review  \\\n",
       "0    The customer service is very bad. I bought a B...   \n",
       "1    I have attempted to put this review on Walmart...   \n",
       "2    I have been a Walmart plus member for years no...   \n",
       "3    I refused a living room set that they sent one...   \n",
       "4    Beware!! Practices discriminatory/preferential...   \n",
       "..                                                 ...   \n",
       "295  I have spent hours on the phone with no resolu...   \n",
       "296  Reading the previous complaints, I can only co...   \n",
       "297  While it may be difficult to not shop at Walma...   \n",
       "298  I updated my phone number and I was trying to ...   \n",
       "299  I bought a 75 inch tv online using Walmart. Ri...   \n",
       "\n",
       "                                           Image_Links  \n",
       "0                                        ['No Images']  \n",
       "1    ['https://media.consumeraffairs.com/files/cach...  \n",
       "2    ['https://media.consumeraffairs.com/files/cach...  \n",
       "3                                        ['No Images']  \n",
       "4                                        ['No Images']  \n",
       "..                                                 ...  \n",
       "295                                      ['No Images']  \n",
       "296                                      ['No Images']  \n",
       "297                                      ['No Images']  \n",
       "298                                      ['No Images']  \n",
       "299                                      ['No Images']  \n",
       "\n",
       "[300 rows x 6 columns]>"
      ]
     },
     "execution_count": 15,
     "metadata": {},
     "output_type": "execute_result"
    }
   ],
   "source": [
    "walmart_df.tail"
   ]
  },
  {
   "cell_type": "code",
   "execution_count": 16,
   "metadata": {},
   "outputs": [
    {
     "data": {
      "text/html": [
       "<div>\n",
       "<style scoped>\n",
       "    .dataframe tbody tr th:only-of-type {\n",
       "        vertical-align: middle;\n",
       "    }\n",
       "\n",
       "    .dataframe tbody tr th {\n",
       "        vertical-align: top;\n",
       "    }\n",
       "\n",
       "    .dataframe thead th {\n",
       "        text-align: right;\n",
       "    }\n",
       "</style>\n",
       "<table border=\"1\" class=\"dataframe\">\n",
       "  <thead>\n",
       "    <tr style=\"text-align: right;\">\n",
       "      <th></th>\n",
       "      <th>Rating</th>\n",
       "    </tr>\n",
       "  </thead>\n",
       "  <tbody>\n",
       "    <tr>\n",
       "      <th>count</th>\n",
       "      <td>300.0</td>\n",
       "    </tr>\n",
       "    <tr>\n",
       "      <th>mean</th>\n",
       "      <td>1.0</td>\n",
       "    </tr>\n",
       "    <tr>\n",
       "      <th>std</th>\n",
       "      <td>0.0</td>\n",
       "    </tr>\n",
       "    <tr>\n",
       "      <th>min</th>\n",
       "      <td>1.0</td>\n",
       "    </tr>\n",
       "    <tr>\n",
       "      <th>25%</th>\n",
       "      <td>1.0</td>\n",
       "    </tr>\n",
       "    <tr>\n",
       "      <th>50%</th>\n",
       "      <td>1.0</td>\n",
       "    </tr>\n",
       "    <tr>\n",
       "      <th>75%</th>\n",
       "      <td>1.0</td>\n",
       "    </tr>\n",
       "    <tr>\n",
       "      <th>max</th>\n",
       "      <td>1.0</td>\n",
       "    </tr>\n",
       "  </tbody>\n",
       "</table>\n",
       "</div>"
      ],
      "text/plain": [
       "       Rating\n",
       "count   300.0\n",
       "mean      1.0\n",
       "std       0.0\n",
       "min       1.0\n",
       "25%       1.0\n",
       "50%       1.0\n",
       "75%       1.0\n",
       "max       1.0"
      ]
     },
     "execution_count": 16,
     "metadata": {},
     "output_type": "execute_result"
    }
   ],
   "source": [
    "walmart_df.describe()"
   ]
  },
  {
   "cell_type": "code",
   "execution_count": 48,
   "metadata": {},
   "outputs": [],
   "source": [
    "walmart_df['negative review'] = np.nan\n",
    "walmart_df['positive review'] = np.nan"
   ]
  },
  {
   "cell_type": "code",
   "execution_count": 86,
   "metadata": {},
   "outputs": [],
   "source": [
    "walmart_df.loc[0:299, 'negative review'] = 'yes'"
   ]
  },
  {
   "cell_type": "code",
   "execution_count": 87,
   "metadata": {},
   "outputs": [],
   "source": [
    "walmart_df.loc[0:299, 'positive review'] = 'no'"
   ]
  },
  {
   "cell_type": "code",
   "execution_count": 88,
   "metadata": {},
   "outputs": [
    {
     "data": {
      "text/html": [
       "<div>\n",
       "<style scoped>\n",
       "    .dataframe tbody tr th:only-of-type {\n",
       "        vertical-align: middle;\n",
       "    }\n",
       "\n",
       "    .dataframe tbody tr th {\n",
       "        vertical-align: top;\n",
       "    }\n",
       "\n",
       "    .dataframe thead th {\n",
       "        text-align: right;\n",
       "    }\n",
       "</style>\n",
       "<table border=\"1\" class=\"dataframe\">\n",
       "  <thead>\n",
       "    <tr style=\"text-align: right;\">\n",
       "      <th></th>\n",
       "      <th>name</th>\n",
       "      <th>location</th>\n",
       "      <th>Date</th>\n",
       "      <th>Rating</th>\n",
       "      <th>Review</th>\n",
       "      <th>Image_Links</th>\n",
       "      <th>negative review</th>\n",
       "      <th>positive review</th>\n",
       "    </tr>\n",
       "  </thead>\n",
       "  <tbody>\n",
       "    <tr>\n",
       "      <th>0</th>\n",
       "      <td>A.</td>\n",
       "      <td>Ankeny, IA</td>\n",
       "      <td>Reviewed Sept. 13, 2023</td>\n",
       "      <td>1</td>\n",
       "      <td>The customer service is very bad. I bought a B...</td>\n",
       "      <td>['No Images']</td>\n",
       "      <td>yes</td>\n",
       "      <td>no</td>\n",
       "    </tr>\n",
       "    <tr>\n",
       "      <th>1</th>\n",
       "      <td>DONNA</td>\n",
       "      <td>Phoenix, AZ</td>\n",
       "      <td>Reviewed Sept. 2, 2023</td>\n",
       "      <td>1</td>\n",
       "      <td>I have attempted to put this review on Walmart...</td>\n",
       "      <td>['https://media.consumeraffairs.com/files/cach...</td>\n",
       "      <td>yes</td>\n",
       "      <td>no</td>\n",
       "    </tr>\n",
       "    <tr>\n",
       "      <th>2</th>\n",
       "      <td>Jill</td>\n",
       "      <td>Baton Rouge, LA</td>\n",
       "      <td>Reviewed Aug. 28, 2023</td>\n",
       "      <td>1</td>\n",
       "      <td>I have been a Walmart plus member for years no...</td>\n",
       "      <td>['https://media.consumeraffairs.com/files/cach...</td>\n",
       "      <td>yes</td>\n",
       "      <td>no</td>\n",
       "    </tr>\n",
       "    <tr>\n",
       "      <th>3</th>\n",
       "      <td>Sukanya</td>\n",
       "      <td>Maumee, OH</td>\n",
       "      <td>Reviewed Aug. 25, 2023</td>\n",
       "      <td>1</td>\n",
       "      <td>I refused a living room set that they sent one...</td>\n",
       "      <td>['No Images']</td>\n",
       "      <td>yes</td>\n",
       "      <td>no</td>\n",
       "    </tr>\n",
       "    <tr>\n",
       "      <th>4</th>\n",
       "      <td>Tiffany</td>\n",
       "      <td>Laurinburg, NC</td>\n",
       "      <td>Reviewed Aug. 18, 2023</td>\n",
       "      <td>1</td>\n",
       "      <td>Beware!! Practices discriminatory/preferential...</td>\n",
       "      <td>['No Images']</td>\n",
       "      <td>yes</td>\n",
       "      <td>no</td>\n",
       "    </tr>\n",
       "  </tbody>\n",
       "</table>\n",
       "</div>"
      ],
      "text/plain": [
       "      name         location                     Date  Rating  \\\n",
       "0       A.       Ankeny, IA  Reviewed Sept. 13, 2023       1   \n",
       "1    DONNA      Phoenix, AZ   Reviewed Sept. 2, 2023       1   \n",
       "2     Jill  Baton Rouge, LA   Reviewed Aug. 28, 2023       1   \n",
       "3  Sukanya       Maumee, OH   Reviewed Aug. 25, 2023       1   \n",
       "4  Tiffany   Laurinburg, NC   Reviewed Aug. 18, 2023       1   \n",
       "\n",
       "                                              Review  \\\n",
       "0  The customer service is very bad. I bought a B...   \n",
       "1  I have attempted to put this review on Walmart...   \n",
       "2  I have been a Walmart plus member for years no...   \n",
       "3  I refused a living room set that they sent one...   \n",
       "4  Beware!! Practices discriminatory/preferential...   \n",
       "\n",
       "                                         Image_Links negative review  \\\n",
       "0                                      ['No Images']             yes   \n",
       "1  ['https://media.consumeraffairs.com/files/cach...             yes   \n",
       "2  ['https://media.consumeraffairs.com/files/cach...             yes   \n",
       "3                                      ['No Images']             yes   \n",
       "4                                      ['No Images']             yes   \n",
       "\n",
       "  positive review  \n",
       "0              no  \n",
       "1              no  \n",
       "2              no  \n",
       "3              no  \n",
       "4              no  "
      ]
     },
     "execution_count": 88,
     "metadata": {},
     "output_type": "execute_result"
    }
   ],
   "source": [
    "walmart_df.head()"
   ]
  },
  {
   "cell_type": "code",
   "execution_count": 91,
   "metadata": {},
   "outputs": [
    {
     "name": "stdout",
     "output_type": "stream",
     "text": [
      "Original DataFrame:\n",
      "        name             location                     Date  Rating  \\\n",
      "0         A.           Ankeny, IA  Reviewed Sept. 13, 2023       1   \n",
      "1      DONNA          Phoenix, AZ   Reviewed Sept. 2, 2023       1   \n",
      "2       Jill      Baton Rouge, LA   Reviewed Aug. 28, 2023       1   \n",
      "3    Sukanya           Maumee, OH   Reviewed Aug. 25, 2023       1   \n",
      "4    Tiffany       Laurinburg, NC   Reviewed Aug. 18, 2023       1   \n",
      "..       ...                  ...                      ...     ...   \n",
      "295  Melissa       Texas City, TX   Reviewed Aug. 15, 2023       1   \n",
      "296    David  West Palm Beach, FL    Reviewed Aug. 8, 2023       1   \n",
      "297      Jay         Torrance, CA   Reviewed July 29, 2023       1   \n",
      "298  Theresa          Chester, PA   Reviewed July 27, 2023       1   \n",
      "299    Jenna       Waterville, OH   Reviewed July 21, 2023       1   \n",
      "\n",
      "                                                Review  \\\n",
      "0    The customer service is very bad. I bought a B...   \n",
      "1    I have attempted to put this review on Walmart...   \n",
      "2    I have been a Walmart plus member for years no...   \n",
      "3    I refused a living room set that they sent one...   \n",
      "4    Beware!! Practices discriminatory/preferential...   \n",
      "..                                                 ...   \n",
      "295  I have spent hours on the phone with no resolu...   \n",
      "296  Reading the previous complaints, I can only co...   \n",
      "297  While it may be difficult to not shop at Walma...   \n",
      "298  I updated my phone number and I was trying to ...   \n",
      "299  I bought a 75 inch tv online using Walmart. Ri...   \n",
      "\n",
      "                                           Image_Links negative review  \\\n",
      "0                                        ['No Images']             yes   \n",
      "1    ['https://media.consumeraffairs.com/files/cach...             yes   \n",
      "2    ['https://media.consumeraffairs.com/files/cach...             yes   \n",
      "3                                        ['No Images']             yes   \n",
      "4                                        ['No Images']             yes   \n",
      "..                                                 ...             ...   \n",
      "295                                      ['No Images']             yes   \n",
      "296                                      ['No Images']             yes   \n",
      "297                                      ['No Images']             yes   \n",
      "298                                      ['No Images']             yes   \n",
      "299                                      ['No Images']             yes   \n",
      "\n",
      "    positive review  \n",
      "0                no  \n",
      "1                no  \n",
      "2                no  \n",
      "3                no  \n",
      "4                no  \n",
      "..              ...  \n",
      "295              no  \n",
      "296              no  \n",
      "297              no  \n",
      "298              no  \n",
      "299              no  \n",
      "\n",
      "[300 rows x 8 columns]\n"
     ]
    }
   ],
   "source": [
    "print(\"Original DataFrame:\")\n",
    "print(walmart_df)"
   ]
  },
  {
   "cell_type": "code",
   "execution_count": 74,
   "metadata": {},
   "outputs": [],
   "source": [
    "column_to_remove = 'negative'"
   ]
  },
  {
   "cell_type": "code",
   "execution_count": 77,
   "metadata": {},
   "outputs": [],
   "source": [
    "walmart_df = walmart_df.drop('negative', axis=1)"
   ]
  },
  {
   "cell_type": "code",
   "execution_count": 90,
   "metadata": {},
   "outputs": [
    {
     "name": "stdout",
     "output_type": "stream",
     "text": [
      "\n",
      "DataFrame after removing the column:\n",
      "        name             location                     Date  Rating  \\\n",
      "0         A.           Ankeny, IA  Reviewed Sept. 13, 2023       1   \n",
      "1      DONNA          Phoenix, AZ   Reviewed Sept. 2, 2023       1   \n",
      "2       Jill      Baton Rouge, LA   Reviewed Aug. 28, 2023       1   \n",
      "3    Sukanya           Maumee, OH   Reviewed Aug. 25, 2023       1   \n",
      "4    Tiffany       Laurinburg, NC   Reviewed Aug. 18, 2023       1   \n",
      "..       ...                  ...                      ...     ...   \n",
      "295  Melissa       Texas City, TX   Reviewed Aug. 15, 2023       1   \n",
      "296    David  West Palm Beach, FL    Reviewed Aug. 8, 2023       1   \n",
      "297      Jay         Torrance, CA   Reviewed July 29, 2023       1   \n",
      "298  Theresa          Chester, PA   Reviewed July 27, 2023       1   \n",
      "299    Jenna       Waterville, OH   Reviewed July 21, 2023       1   \n",
      "\n",
      "                                                Review  \\\n",
      "0    The customer service is very bad. I bought a B...   \n",
      "1    I have attempted to put this review on Walmart...   \n",
      "2    I have been a Walmart plus member for years no...   \n",
      "3    I refused a living room set that they sent one...   \n",
      "4    Beware!! Practices discriminatory/preferential...   \n",
      "..                                                 ...   \n",
      "295  I have spent hours on the phone with no resolu...   \n",
      "296  Reading the previous complaints, I can only co...   \n",
      "297  While it may be difficult to not shop at Walma...   \n",
      "298  I updated my phone number and I was trying to ...   \n",
      "299  I bought a 75 inch tv online using Walmart. Ri...   \n",
      "\n",
      "                                           Image_Links negative review  \\\n",
      "0                                        ['No Images']             yes   \n",
      "1    ['https://media.consumeraffairs.com/files/cach...             yes   \n",
      "2    ['https://media.consumeraffairs.com/files/cach...             yes   \n",
      "3                                        ['No Images']             yes   \n",
      "4                                        ['No Images']             yes   \n",
      "..                                                 ...             ...   \n",
      "295                                      ['No Images']             yes   \n",
      "296                                      ['No Images']             yes   \n",
      "297                                      ['No Images']             yes   \n",
      "298                                      ['No Images']             yes   \n",
      "299                                      ['No Images']             yes   \n",
      "\n",
      "    positive review  \n",
      "0                no  \n",
      "1                no  \n",
      "2                no  \n",
      "3                no  \n",
      "4                no  \n",
      "..              ...  \n",
      "295              no  \n",
      "296              no  \n",
      "297              no  \n",
      "298              no  \n",
      "299              no  \n",
      "\n",
      "[300 rows x 8 columns]\n"
     ]
    }
   ],
   "source": [
    "print(\"\\nDataFrame after removing the column:\")\n",
    "print(walmart_df)"
   ]
  },
  {
   "cell_type": "code",
   "execution_count": 79,
   "metadata": {},
   "outputs": [
    {
     "data": {
      "text/plain": [
       "Index(['name', 'location', 'Date', 'Rating', 'Review', 'Image_Links',\n",
       "       'negative review', 'positive review'],\n",
       "      dtype='object')"
      ]
     },
     "execution_count": 79,
     "metadata": {},
     "output_type": "execute_result"
    }
   ],
   "source": [
    "walmart_df.keys()"
   ]
  },
  {
   "cell_type": "code",
   "execution_count": 18,
   "metadata": {},
   "outputs": [
    {
     "data": {
      "text/plain": [
       "0      1\n",
       "1      1\n",
       "2      1\n",
       "3      1\n",
       "4      1\n",
       "      ..\n",
       "295    1\n",
       "296    1\n",
       "297    1\n",
       "298    1\n",
       "299    1\n",
       "Name: Rating, Length: 300, dtype: int64"
      ]
     },
     "execution_count": 18,
     "metadata": {},
     "output_type": "execute_result"
    }
   ],
   "source": [
    "walmart_df['Rating']"
   ]
  },
  {
   "cell_type": "code",
   "execution_count": 20,
   "metadata": {},
   "outputs": [
    {
     "data": {
      "text/html": [
       "<div>\n",
       "<style scoped>\n",
       "    .dataframe tbody tr th:only-of-type {\n",
       "        vertical-align: middle;\n",
       "    }\n",
       "\n",
       "    .dataframe tbody tr th {\n",
       "        vertical-align: top;\n",
       "    }\n",
       "\n",
       "    .dataframe thead th {\n",
       "        text-align: right;\n",
       "    }\n",
       "</style>\n",
       "<table border=\"1\" class=\"dataframe\">\n",
       "  <thead>\n",
       "    <tr style=\"text-align: right;\">\n",
       "      <th></th>\n",
       "      <th>name</th>\n",
       "      <th>location</th>\n",
       "      <th>Date</th>\n",
       "      <th>Rating</th>\n",
       "      <th>Review</th>\n",
       "      <th>Image_Links</th>\n",
       "    </tr>\n",
       "  </thead>\n",
       "  <tbody>\n",
       "  </tbody>\n",
       "</table>\n",
       "</div>"
      ],
      "text/plain": [
       "Empty DataFrame\n",
       "Columns: [name, location, Date, Rating, Review, Image_Links]\n",
       "Index: []"
      ]
     },
     "execution_count": 20,
     "metadata": {},
     "output_type": "execute_result"
    }
   ],
   "source": [
    "walmart_df[walmart_df['Rating'] > 1]"
   ]
  },
  {
   "cell_type": "code",
   "execution_count": 89,
   "metadata": {},
   "outputs": [
    {
     "data": {
      "text/html": [
       "<div>\n",
       "<style scoped>\n",
       "    .dataframe tbody tr th:only-of-type {\n",
       "        vertical-align: middle;\n",
       "    }\n",
       "\n",
       "    .dataframe tbody tr th {\n",
       "        vertical-align: top;\n",
       "    }\n",
       "\n",
       "    .dataframe thead th {\n",
       "        text-align: right;\n",
       "    }\n",
       "</style>\n",
       "<table border=\"1\" class=\"dataframe\">\n",
       "  <thead>\n",
       "    <tr style=\"text-align: right;\">\n",
       "      <th></th>\n",
       "      <th>name</th>\n",
       "      <th>location</th>\n",
       "      <th>Date</th>\n",
       "      <th>Rating</th>\n",
       "      <th>Review</th>\n",
       "      <th>Image_Links</th>\n",
       "      <th>negative review</th>\n",
       "      <th>positive review</th>\n",
       "    </tr>\n",
       "  </thead>\n",
       "  <tbody>\n",
       "    <tr>\n",
       "      <th>0</th>\n",
       "      <td>A.</td>\n",
       "      <td>Ankeny, IA</td>\n",
       "      <td>Reviewed Sept. 13, 2023</td>\n",
       "      <td>1</td>\n",
       "      <td>The customer service is very bad. I bought a B...</td>\n",
       "      <td>['No Images']</td>\n",
       "      <td>yes</td>\n",
       "      <td>no</td>\n",
       "    </tr>\n",
       "    <tr>\n",
       "      <th>1</th>\n",
       "      <td>DONNA</td>\n",
       "      <td>Phoenix, AZ</td>\n",
       "      <td>Reviewed Sept. 2, 2023</td>\n",
       "      <td>1</td>\n",
       "      <td>I have attempted to put this review on Walmart...</td>\n",
       "      <td>['https://media.consumeraffairs.com/files/cach...</td>\n",
       "      <td>yes</td>\n",
       "      <td>no</td>\n",
       "    </tr>\n",
       "    <tr>\n",
       "      <th>2</th>\n",
       "      <td>Jill</td>\n",
       "      <td>Baton Rouge, LA</td>\n",
       "      <td>Reviewed Aug. 28, 2023</td>\n",
       "      <td>1</td>\n",
       "      <td>I have been a Walmart plus member for years no...</td>\n",
       "      <td>['https://media.consumeraffairs.com/files/cach...</td>\n",
       "      <td>yes</td>\n",
       "      <td>no</td>\n",
       "    </tr>\n",
       "    <tr>\n",
       "      <th>3</th>\n",
       "      <td>Sukanya</td>\n",
       "      <td>Maumee, OH</td>\n",
       "      <td>Reviewed Aug. 25, 2023</td>\n",
       "      <td>1</td>\n",
       "      <td>I refused a living room set that they sent one...</td>\n",
       "      <td>['No Images']</td>\n",
       "      <td>yes</td>\n",
       "      <td>no</td>\n",
       "    </tr>\n",
       "    <tr>\n",
       "      <th>4</th>\n",
       "      <td>Tiffany</td>\n",
       "      <td>Laurinburg, NC</td>\n",
       "      <td>Reviewed Aug. 18, 2023</td>\n",
       "      <td>1</td>\n",
       "      <td>Beware!! Practices discriminatory/preferential...</td>\n",
       "      <td>['No Images']</td>\n",
       "      <td>yes</td>\n",
       "      <td>no</td>\n",
       "    </tr>\n",
       "    <tr>\n",
       "      <th>...</th>\n",
       "      <td>...</td>\n",
       "      <td>...</td>\n",
       "      <td>...</td>\n",
       "      <td>...</td>\n",
       "      <td>...</td>\n",
       "      <td>...</td>\n",
       "      <td>...</td>\n",
       "      <td>...</td>\n",
       "    </tr>\n",
       "    <tr>\n",
       "      <th>295</th>\n",
       "      <td>Melissa</td>\n",
       "      <td>Texas City, TX</td>\n",
       "      <td>Reviewed Aug. 15, 2023</td>\n",
       "      <td>1</td>\n",
       "      <td>I have spent hours on the phone with no resolu...</td>\n",
       "      <td>['No Images']</td>\n",
       "      <td>yes</td>\n",
       "      <td>no</td>\n",
       "    </tr>\n",
       "    <tr>\n",
       "      <th>296</th>\n",
       "      <td>David</td>\n",
       "      <td>West Palm Beach, FL</td>\n",
       "      <td>Reviewed Aug. 8, 2023</td>\n",
       "      <td>1</td>\n",
       "      <td>Reading the previous complaints, I can only co...</td>\n",
       "      <td>['No Images']</td>\n",
       "      <td>yes</td>\n",
       "      <td>no</td>\n",
       "    </tr>\n",
       "    <tr>\n",
       "      <th>297</th>\n",
       "      <td>Jay</td>\n",
       "      <td>Torrance, CA</td>\n",
       "      <td>Reviewed July 29, 2023</td>\n",
       "      <td>1</td>\n",
       "      <td>While it may be difficult to not shop at Walma...</td>\n",
       "      <td>['No Images']</td>\n",
       "      <td>yes</td>\n",
       "      <td>no</td>\n",
       "    </tr>\n",
       "    <tr>\n",
       "      <th>298</th>\n",
       "      <td>Theresa</td>\n",
       "      <td>Chester, PA</td>\n",
       "      <td>Reviewed July 27, 2023</td>\n",
       "      <td>1</td>\n",
       "      <td>I updated my phone number and I was trying to ...</td>\n",
       "      <td>['No Images']</td>\n",
       "      <td>yes</td>\n",
       "      <td>no</td>\n",
       "    </tr>\n",
       "    <tr>\n",
       "      <th>299</th>\n",
       "      <td>Jenna</td>\n",
       "      <td>Waterville, OH</td>\n",
       "      <td>Reviewed July 21, 2023</td>\n",
       "      <td>1</td>\n",
       "      <td>I bought a 75 inch tv online using Walmart. Ri...</td>\n",
       "      <td>['No Images']</td>\n",
       "      <td>yes</td>\n",
       "      <td>no</td>\n",
       "    </tr>\n",
       "  </tbody>\n",
       "</table>\n",
       "<p>300 rows × 8 columns</p>\n",
       "</div>"
      ],
      "text/plain": [
       "        name             location                     Date  Rating  \\\n",
       "0         A.           Ankeny, IA  Reviewed Sept. 13, 2023       1   \n",
       "1      DONNA          Phoenix, AZ   Reviewed Sept. 2, 2023       1   \n",
       "2       Jill      Baton Rouge, LA   Reviewed Aug. 28, 2023       1   \n",
       "3    Sukanya           Maumee, OH   Reviewed Aug. 25, 2023       1   \n",
       "4    Tiffany       Laurinburg, NC   Reviewed Aug. 18, 2023       1   \n",
       "..       ...                  ...                      ...     ...   \n",
       "295  Melissa       Texas City, TX   Reviewed Aug. 15, 2023       1   \n",
       "296    David  West Palm Beach, FL    Reviewed Aug. 8, 2023       1   \n",
       "297      Jay         Torrance, CA   Reviewed July 29, 2023       1   \n",
       "298  Theresa          Chester, PA   Reviewed July 27, 2023       1   \n",
       "299    Jenna       Waterville, OH   Reviewed July 21, 2023       1   \n",
       "\n",
       "                                                Review  \\\n",
       "0    The customer service is very bad. I bought a B...   \n",
       "1    I have attempted to put this review on Walmart...   \n",
       "2    I have been a Walmart plus member for years no...   \n",
       "3    I refused a living room set that they sent one...   \n",
       "4    Beware!! Practices discriminatory/preferential...   \n",
       "..                                                 ...   \n",
       "295  I have spent hours on the phone with no resolu...   \n",
       "296  Reading the previous complaints, I can only co...   \n",
       "297  While it may be difficult to not shop at Walma...   \n",
       "298  I updated my phone number and I was trying to ...   \n",
       "299  I bought a 75 inch tv online using Walmart. Ri...   \n",
       "\n",
       "                                           Image_Links negative review  \\\n",
       "0                                        ['No Images']             yes   \n",
       "1    ['https://media.consumeraffairs.com/files/cach...             yes   \n",
       "2    ['https://media.consumeraffairs.com/files/cach...             yes   \n",
       "3                                        ['No Images']             yes   \n",
       "4                                        ['No Images']             yes   \n",
       "..                                                 ...             ...   \n",
       "295                                      ['No Images']             yes   \n",
       "296                                      ['No Images']             yes   \n",
       "297                                      ['No Images']             yes   \n",
       "298                                      ['No Images']             yes   \n",
       "299                                      ['No Images']             yes   \n",
       "\n",
       "    positive review  \n",
       "0                no  \n",
       "1                no  \n",
       "2                no  \n",
       "3                no  \n",
       "4                no  \n",
       "..              ...  \n",
       "295              no  \n",
       "296              no  \n",
       "297              no  \n",
       "298              no  \n",
       "299              no  \n",
       "\n",
       "[300 rows x 8 columns]"
      ]
     },
     "execution_count": 89,
     "metadata": {},
     "output_type": "execute_result"
    }
   ],
   "source": [
    "walmart_df[walmart_df['Rating'] ==1]"
   ]
  },
  {
   "cell_type": "code",
   "execution_count": 29,
   "metadata": {},
   "outputs": [
    {
     "data": {
      "text/plain": [
       "array([[<Axes: title={'center': 'Rating'}>]], dtype=object)"
      ]
     },
     "execution_count": 29,
     "metadata": {},
     "output_type": "execute_result"
    },
    {
     "data": {
      "image/png": "[encoded data removed]",
      "text/plain": [
       "<Figure size 640x480 with 1 Axes>"
      ]
     },
     "metadata": {},
     "output_type": "display_data"
    }
   ],
   "source": [
    "walmart_df.hist('Rating')"
   ]
  },
  {
   "cell_type": "code",
   "execution_count": 30,
   "metadata": {},
   "outputs": [
    {
     "data": {
      "text/plain": [
       "<Axes: >"
      ]
     },
     "execution_count": 30,
     "metadata": {},
     "output_type": "execute_result"
    },
    {
     "data": {
      "image/png": "[encoded data removed]",
      "text/plain": [
       "<Figure size 640x480 with 1 Axes>"
      ]
     },
     "metadata": {},
     "output_type": "display_data"
    }
   ],
   "source": [
    "walmart_df['Rating'].plot()"
   ]
  },
  {
   "cell_type": "code",
   "execution_count": 31,
   "metadata": {},
   "outputs": [],
   "source": [
    "import matplotlib.pyplot as plt"
   ]
  },
  {
   "cell_type": "code",
   "execution_count": 103,
   "metadata": {},
   "outputs": [
    {
     "data": {
      "image/png": "[encoded data removed]",
      "text/plain": [
       "<Figure size 640x480 with 1 Axes>"
      ]
     },
     "metadata": {},
     "output_type": "display_data"
    }
   ],
   "source": [
    "labels = ['Rating of 1', 'Rating of 2', 'Rating of 3', 'Rating of 4','Rating of 5']\n",
    "sizes = [100, 0, 0, 0, 0]\n",
    "colors = ['orange', 'lightcoral', 'lightskyblue', 'lightgreen', 'red']\n",
    "explode = (0.1, 0, 0, 0, 0)\n",
    "plt.pie(sizes, explode=explode, labels=labels, colors=colors, autopct='%1.1f%%', shadow=True, startangle=140)\n",
    "plt.title('Walmart Customer Ratings')\n",
    "plt.show()"
   ]
  },
  {
   "cell_type": "code",
   "execution_count": 37,
   "metadata": {},
   "outputs": [
    {
     "data": {
      "text/plain": [
       "0               Ankeny, IA\n",
       "1              Phoenix, AZ\n",
       "2          Baton Rouge, LA\n",
       "3               Maumee, OH\n",
       "4           Laurinburg, NC\n",
       "              ...         \n",
       "295         Texas City, TX\n",
       "296    West Palm Beach, FL\n",
       "297           Torrance, CA\n",
       "298            Chester, PA\n",
       "299         Waterville, OH\n",
       "Name: location, Length: 300, dtype: object"
      ]
     },
     "execution_count": 37,
     "metadata": {},
     "output_type": "execute_result"
    }
   ],
   "source": [
    "walmart_df['location']"
   ]
  },
  {
   "cell_type": "code",
   "execution_count": 38,
   "metadata": {},
   "outputs": [
    {
     "data": {
      "text/plain": [
       "location\n",
       "Ankeny, IA             30\n",
       "Phoenix, AZ            30\n",
       "Baton Rouge, LA        30\n",
       "Maumee, OH             30\n",
       "Laurinburg, NC         30\n",
       "Texas City, TX         30\n",
       "West Palm Beach, FL    30\n",
       "Torrance, CA           30\n",
       "Chester, PA            30\n",
       "Waterville, OH         30\n",
       "Name: count, dtype: int64"
      ]
     },
     "execution_count": 38,
     "metadata": {},
     "output_type": "execute_result"
    }
   ],
   "source": [
    "walmart_df['location'].value_counts()"
   ]
  },
  {
   "cell_type": "code",
   "execution_count": 40,
   "metadata": {},
   "outputs": [
    {
     "data": {
      "text/plain": [
       "<Axes: xlabel='Rating', ylabel='location'>"
      ]
     },
     "execution_count": 40,
     "metadata": {},
     "output_type": "execute_result"
    },
    {
     "data": {
      "image/png": "[encoded data removed]",
      "text/plain": [
       "<Figure size 640x480 with 1 Axes>"
      ]
     },
     "metadata": {},
     "output_type": "display_data"
    }
   ],
   "source": [
    "walmart_df.plot.scatter(x='Rating',y='location')"
   ]
  },
  {
   "cell_type": "code",
   "execution_count": 44,
   "metadata": {},
   "outputs": [
    {
     "data": {
      "text/plain": [
       "array(['A.', 'DONNA', 'Jill', 'Sukanya', 'Tiffany', 'Melissa', 'David',\n",
       "       'Jay', 'Theresa', 'Jenna'], dtype=object)"
      ]
     },
     "execution_count": 44,
     "metadata": {},
     "output_type": "execute_result"
    }
   ],
   "source": [
    "walmart_df['name'].unique()"
   ]
  },
  {
   "cell_type": "code",
   "execution_count": 93,
   "metadata": {},
   "outputs": [
    {
     "data": {
      "text/plain": [
       "name\n",
       "A.         30\n",
       "DONNA      30\n",
       "Jill       30\n",
       "Sukanya    30\n",
       "Tiffany    30\n",
       "Melissa    30\n",
       "David      30\n",
       "Jay        30\n",
       "Theresa    30\n",
       "Jenna      30\n",
       "Name: count, dtype: int64"
      ]
     },
     "execution_count": 93,
     "metadata": {},
     "output_type": "execute_result"
    }
   ],
   "source": [
    "walmart_df['name'].value_counts()"
   ]
  },
  {
   "cell_type": "code",
   "execution_count": 104,
   "metadata": {},
   "outputs": [
    {
     "data": {
      "text/plain": [
       "<Axes: xlabel='name', ylabel='Rating'>"
      ]
     },
     "execution_count": 104,
     "metadata": {},
     "output_type": "execute_result"
    },
    {
     "data": {
      "image/png": "[encoded data removed]",
      "text/plain": [
       "<Figure size 640x480 with 1 Axes>"
      ]
     },
     "metadata": {},
     "output_type": "display_data"
    }
   ],
   "source": [
    "walmart_df.plot.scatter(x='name',y='Rating')"
   ]
  },
  {
   "cell_type": "code",
   "execution_count": 94,
   "metadata": {},
   "outputs": [
    {
     "data": {
      "text/plain": [
       "<Axes: xlabel='name', ylabel='location'>"
      ]
     },
     "execution_count": 94,
     "metadata": {},
     "output_type": "execute_result"
    },
    {
     "data": {
      "image/png": "[encoded data removed]",
      "text/plain": [
       "<Figure size 640x480 with 1 Axes>"
      ]
     },
     "metadata": {},
     "output_type": "display_data"
    }
   ],
   "source": [
    "walmart_df.plot.scatter(x='name',y='location')"
   ]
  },
  {
   "cell_type": "code",
   "execution_count": 99,
   "metadata": {},
   "outputs": [
    {
     "data": {
      "text/plain": [
       "0      Reviewed Sept. 13, 2023\n",
       "1       Reviewed Sept. 2, 2023\n",
       "2       Reviewed Aug. 28, 2023\n",
       "3       Reviewed Aug. 25, 2023\n",
       "4       Reviewed Aug. 18, 2023\n",
       "                ...           \n",
       "295     Reviewed Aug. 15, 2023\n",
       "296      Reviewed Aug. 8, 2023\n",
       "297     Reviewed July 29, 2023\n",
       "298     Reviewed July 27, 2023\n",
       "299     Reviewed July 21, 2023\n",
       "Name: Date, Length: 300, dtype: object"
      ]
     },
     "execution_count": 99,
     "metadata": {},
     "output_type": "execute_result"
    }
   ],
   "source": [
    "walmart_df['Date']"
   ]
  },
  {
   "cell_type": "code",
   "execution_count": 100,
   "metadata": {},
   "outputs": [
    {
     "data": {
      "text/plain": [
       "Date\n",
       "Reviewed Sept. 13, 2023    30\n",
       "Reviewed Sept. 2, 2023     30\n",
       "Reviewed Aug. 28, 2023     30\n",
       "Reviewed Aug. 25, 2023     30\n",
       "Reviewed Aug. 18, 2023     30\n",
       "Reviewed Aug. 15, 2023     30\n",
       "Reviewed Aug. 8, 2023      30\n",
       "Reviewed July 29, 2023     30\n",
       "Reviewed July 27, 2023     30\n",
       "Reviewed July 21, 2023     30\n",
       "Name: count, dtype: int64"
      ]
     },
     "execution_count": 100,
     "metadata": {},
     "output_type": "execute_result"
    }
   ],
   "source": [
    "walmart_df['Date'].value_counts()"
   ]
  },
  {
   "cell_type": "code",
   "execution_count": 112,
   "metadata": {},
   "outputs": [
    {
     "data": {
      "image/png": "[encoded data removed]",
      "text/plain": [
       "<Figure size 640x480 with 1 Axes>"
      ]
     },
     "metadata": {},
     "output_type": "display_data"
    }
   ],
   "source": [
    "labels = ['Waterville, OH', 'Chester, PA', 'Torrance, CA', 'West Palm Beach, FL', 'Texas City, TX', 'Lauinburg, NC', 'Maumee, OH', 'Baton Rouge, LA', 'Phoenix, AZ', 'Ankeny, IA']\n",
    "sizes = [10, 10, 10, 10, 10, 10, 10, 10, 10, 10]\n",
    "\n",
    "# Corrected color names and consistent naming convention\n",
    "colors = ['orange', 'lightcoral', 'lightskyblue', 'lightgreen', 'red', 'purple', 'teal', 'gold', 'darkgreen', 'darkblue']\n",
    "\n",
    "explode = (0.1, 0, 0, 0, 0, 0, 0, 0, 0, 0)\n",
    "\n",
    "plt.pie(sizes, explode=explode, labels=labels, colors=colors, autopct='%1.1f%%', shadow=True, startangle=140)\n",
    "plt.title('Location of Walmart Reviewers')\n",
    "plt.show()"
   ]
  }
 ],
 "metadata": {
  "kernelspec": {
   "display_name": "Python 3",
   "language": "python",
   "name": "python3"
  },
  "language_info": {
   "codemirror_mode": {
    "name": "ipython",
    "version": 3
   },
   "file_extension": ".py",
   "mimetype": "text/x-python",
   "name": "python",
   "nbconvert_exporter": "python",
   "pygments_lexer": "ipython3",
   "version": "3.9.6"
  },
  "orig_nbformat": 4
 },
 "nbformat": 4,
 "nbformat_minor": 2
}
